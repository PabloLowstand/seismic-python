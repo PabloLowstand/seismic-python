{
 "cells": [
  {
   "cell_type": "code",
   "execution_count": 5,
   "metadata": {},
   "outputs": [
    {
     "ename": "ArgumentError",
     "evalue": "ArgumentError: Package Progress not found in current path:\n- Run `import Pkg; Pkg.add(\"Progress\")` to install the Progress package.\n",
     "output_type": "error",
     "traceback": [
      "ArgumentError: Package Progress not found in current path:\n- Run `import Pkg; Pkg.add(\"Progress\")` to install the Progress package.\n",
      "",
      "Stacktrace:",
      " [1] require(::Module, ::Symbol) at ./loading.jl:823",
      " [2] top-level scope at In[5]:2"
     ]
    }
   ],
   "source": [
    "using Plots;\n",
    "\n",
    "pyplot();\n",
    "import PyPlot;\n",
    "const plt = PyPlot;"
   ]
  }
 ],
 "metadata": {
  "kernelspec": {
   "display_name": "Julia 1.0.3",
   "language": "julia",
   "name": "julia-1.0"
  },
  "language_info": {
   "file_extension": ".jl",
   "mimetype": "application/julia",
   "name": "julia",
   "version": "1.0.3"
  }
 },
 "nbformat": 4,
 "nbformat_minor": 2
}
